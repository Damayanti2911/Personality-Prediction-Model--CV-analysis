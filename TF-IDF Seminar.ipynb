{
 "cells": [
  {
   "cell_type": "code",
   "execution_count": 1,
   "id": "91cb6373",
   "metadata": {},
   "outputs": [],
   "source": [
    "import pandas as pd"
   ]
  },
  {
   "cell_type": "code",
   "execution_count": 2,
   "id": "0cd88a9d",
   "metadata": {
    "scrolled": true
   },
   "outputs": [
    {
     "data": {
      "text/html": [
       "<div>\n",
       "<style scoped>\n",
       "    .dataframe tbody tr th:only-of-type {\n",
       "        vertical-align: middle;\n",
       "    }\n",
       "\n",
       "    .dataframe tbody tr th {\n",
       "        vertical-align: top;\n",
       "    }\n",
       "\n",
       "    .dataframe thead th {\n",
       "        text-align: right;\n",
       "    }\n",
       "</style>\n",
       "<table border=\"1\" class=\"dataframe\">\n",
       "  <thead>\n",
       "    <tr style=\"text-align: right;\">\n",
       "      <th></th>\n",
       "      <th>Reviews</th>\n",
       "    </tr>\n",
       "  </thead>\n",
       "  <tbody>\n",
       "    <tr>\n",
       "      <th>0</th>\n",
       "      <td>Education Details \\nMay 2013 to May 2017 B.E  ...</td>\n",
       "    </tr>\n",
       "  </tbody>\n",
       "</table>\n",
       "</div>"
      ],
      "text/plain": [
       "                                             Reviews\n",
       "0  Education Details \\nMay 2013 to May 2017 B.E  ..."
      ]
     },
     "execution_count": 2,
     "metadata": {},
     "output_type": "execute_result"
    }
   ],
   "source": [
    "reviews=pd.read_excel('downloads/reviews.xlsx')\n",
    "reviews.head()"
   ]
  },
  {
   "cell_type": "code",
   "execution_count": 3,
   "id": "84d3f492",
   "metadata": {},
   "outputs": [
    {
     "data": {
      "text/plain": [
       "(1, 1)"
      ]
     },
     "execution_count": 3,
     "metadata": {},
     "output_type": "execute_result"
    }
   ],
   "source": [
    "reviews.shape"
   ]
  },
  {
   "cell_type": "code",
   "execution_count": 6,
   "id": "785df20b",
   "metadata": {},
   "outputs": [],
   "source": [
    "import nltk"
   ]
  },
  {
   "cell_type": "code",
   "execution_count": 7,
   "id": "f7ffad58",
   "metadata": {},
   "outputs": [],
   "source": [
    "#nltk.download()"
   ]
  },
  {
   "cell_type": "code",
   "execution_count": 8,
   "id": "b0af8213",
   "metadata": {},
   "outputs": [
    {
     "name": "stdout",
     "output_type": "stream",
     "text": [
      "0\n",
      "Old length:  1249\n",
      "New length:  1008\n"
     ]
    }
   ],
   "source": [
    "import nltk\n",
    "import re\n",
    "from nltk.corpus import stopwords\n",
    "sw_nltk = stopwords.words('english')\n",
    "#print(sw_nltk)\n",
    "\n",
    "\n",
    "for i in range(0, len(reviews)):\n",
    "    print(i)\n",
    "    old_title = re.sub('[^a-zA-Z]', ' ', reviews['Reviews'][i])\n",
    "    \n",
    "corpus=[]    \n",
    "\n",
    "words = [word for word in old_title.split() if word.lower() not in sw_nltk]\n",
    "title = \" \".join(words)\n",
    "#print(new_text)\n",
    "print(\"Old length: \", len(old_title))\n",
    "print(\"New length: \", len(title))\n",
    "\n",
    "corpus.append(title)\n"
   ]
  },
  {
   "cell_type": "code",
   "execution_count": 9,
   "id": "f768a0e4",
   "metadata": {},
   "outputs": [],
   "source": [
    "#import nltk\n",
    "#import re\n",
    "#from nltk.corpus import stopwords\n",
    "#from nltk.stem.porter import PorterStemmer\n",
    "#ps = PorterStemmer()\n",
    "#corpus = []\n",
    "#for i in range(0, len(reviews)):\n",
    "#    print(i)\n",
    "#    title = re.sub('[^a-zA-Z]', ' ', reviews['Reviews'][i])\n",
    "#    title = title.lower()\n",
    "#    title = title.split()\n",
    "#    title = [ps.stem(word) for word in title if not word in stopwords.words('english')]\n",
    "#    title = ' '.join(title)\n",
    "#    corpus.append(title)"
   ]
  },
  {
   "cell_type": "code",
   "execution_count": 10,
   "id": "a7120dba",
   "metadata": {},
   "outputs": [
    {
     "data": {
      "text/plain": [
       "['Education Details May May B E UIT RGPV Data Scientist Data Scientist Matelabs Skill Details Python Exprience Less year months Statsmodels Exprience months AWS cloud Exprience Less year months Machine learning Exprience Less year months Sklearn Exprience Less year months Scipy Exprience Less year months Keras Exprience Less year monthsCompany Details company Matelabs description ML Platform business professionals dummies enthusiasts Koramangala th block Achievements Tasks behind sukh sagar Bengaluru India Developed deployed auto preprocessing steps machine learning mainly missing value treatment outlier detection encoding scaling feature selection dimensionality reduction Deployed automated classification regression model linkedin com aditya rathore b b Reasearch deployed time series forecasting model ARIMA SARIMAX Holt winter Prophet Worked meta feature extracting problem github com rathorology Implemented state art research paper outlier detection mixed attributes company Matelabs description']"
      ]
     },
     "execution_count": 10,
     "metadata": {},
     "output_type": "execute_result"
    }
   ],
   "source": [
    "corpus"
   ]
  },
  {
   "cell_type": "code",
   "execution_count": 11,
   "id": "63f970c0",
   "metadata": {},
   "outputs": [
    {
     "name": "stdout",
     "output_type": "stream",
     "text": [
      "Require CV\n"
     ]
    }
   ],
   "source": [
    "from sklearn.feature_extraction.text import TfidfVectorizer\n",
    "\n",
    "tfidf=TfidfVectorizer().fit(corpus)\n",
    "\n",
    "count_tokens=tfidf.get_feature_names()\n",
    "#count_tokens\n",
    "for i in range(len(count_tokens)):\n",
    "    if count_tokens[i]==\"python\":\n",
    "        print(\"Require CV\")\n"
   ]
  },
  {
   "cell_type": "code",
   "execution_count": 13,
   "id": "bbde2b70",
   "metadata": {},
   "outputs": [
    {
     "name": "stdout",
     "output_type": "stream",
     "text": [
      "Require CV\n"
     ]
    }
   ],
   "source": [
    "Requirements=\"python\"\n",
    "count_tokens=tfidf.get_feature_names()\n",
    "#count_tokens\n",
    "for i in range(len(count_tokens)):\n",
    "    if count_tokens[i]==Requirements:\n",
    "        print(\"Require CV\")\n",
    "\n"
   ]
  },
  {
   "cell_type": "code",
   "execution_count": null,
   "id": "23a1d34a",
   "metadata": {},
   "outputs": [],
   "source": []
  },
  {
   "cell_type": "code",
   "execution_count": 12,
   "id": "6bea3134",
   "metadata": {},
   "outputs": [
    {
     "name": "stdout",
     "output_type": "stream",
     "text": [
      "   achievements    aditya     arima       art  attributes      auto  \\\n",
      "0      0.057639  0.057639  0.057639  0.057639    0.057639  0.057639   \n",
      "\n",
      "   automated       aws    behind  bengaluru  ...      sukh     tasks  \\\n",
      "0   0.057639  0.057639  0.057639   0.057639  ...  0.057639  0.057639   \n",
      "\n",
      "         th      time  treatment       uit     value    winter    worked  \\\n",
      "0  0.057639  0.057639   0.057639  0.057639  0.057639  0.057639  0.057639   \n",
      "\n",
      "       year  \n",
      "0  0.345834  \n",
      "\n",
      "[1 rows x 88 columns]\n"
     ]
    }
   ],
   "source": [
    "vectorizer = TfidfVectorizer()\n",
    "vectors = vectorizer.fit_transform(corpus)\n",
    "feature_names = vectorizer.get_feature_names()\n",
    "dense = vectors.todense()\n",
    "denselist = dense.tolist()\n",
    "df = pd.DataFrame(denselist, columns=feature_names)\n",
    "print(df)"
   ]
  },
  {
   "cell_type": "code",
   "execution_count": 13,
   "id": "f59baaf5",
   "metadata": {},
   "outputs": [
    {
     "name": "stdout",
     "output_type": "stream",
     "text": [
      "Require CV\n"
     ]
    }
   ],
   "source": []
  },
  {
   "cell_type": "code",
   "execution_count": 147,
   "id": "6bd20ac1",
   "metadata": {},
   "outputs": [],
   "source": [
    "article_vect = tfidf.transform(corpus)"
   ]
  },
  {
   "cell_type": "code",
   "execution_count": 148,
   "id": "355999a1",
   "metadata": {},
   "outputs": [
    {
     "data": {
      "text/html": [
       "<div>\n",
       "<style scoped>\n",
       "    .dataframe tbody tr th:only-of-type {\n",
       "        vertical-align: middle;\n",
       "    }\n",
       "\n",
       "    .dataframe tbody tr th {\n",
       "        vertical-align: top;\n",
       "    }\n",
       "\n",
       "    .dataframe thead th {\n",
       "        text-align: right;\n",
       "    }\n",
       "</style>\n",
       "<table border=\"1\" class=\"dataframe\">\n",
       "  <thead>\n",
       "    <tr style=\"text-align: right;\">\n",
       "      <th></th>\n",
       "      <th>achievements</th>\n",
       "      <th>aditya</th>\n",
       "      <th>arima</th>\n",
       "      <th>art</th>\n",
       "      <th>attributes</th>\n",
       "      <th>auto</th>\n",
       "      <th>automated</th>\n",
       "      <th>aws</th>\n",
       "      <th>behind</th>\n",
       "      <th>bengaluru</th>\n",
       "      <th>...</th>\n",
       "      <th>sukh</th>\n",
       "      <th>tasks</th>\n",
       "      <th>th</th>\n",
       "      <th>time</th>\n",
       "      <th>treatment</th>\n",
       "      <th>uit</th>\n",
       "      <th>value</th>\n",
       "      <th>winter</th>\n",
       "      <th>worked</th>\n",
       "      <th>year</th>\n",
       "    </tr>\n",
       "  </thead>\n",
       "  <tbody>\n",
       "    <tr>\n",
       "      <th>0</th>\n",
       "      <td>0.057735</td>\n",
       "      <td>0.057735</td>\n",
       "      <td>0.057735</td>\n",
       "      <td>0.057735</td>\n",
       "      <td>0.057735</td>\n",
       "      <td>0.057735</td>\n",
       "      <td>0.057735</td>\n",
       "      <td>0.057735</td>\n",
       "      <td>0.057735</td>\n",
       "      <td>0.057735</td>\n",
       "      <td>...</td>\n",
       "      <td>0.057735</td>\n",
       "      <td>0.057735</td>\n",
       "      <td>0.057735</td>\n",
       "      <td>0.057735</td>\n",
       "      <td>0.057735</td>\n",
       "      <td>0.057735</td>\n",
       "      <td>0.057735</td>\n",
       "      <td>0.057735</td>\n",
       "      <td>0.057735</td>\n",
       "      <td>0.34641</td>\n",
       "    </tr>\n",
       "  </tbody>\n",
       "</table>\n",
       "<p>1 rows × 87 columns</p>\n",
       "</div>"
      ],
      "text/plain": [
       "   achievements    aditya     arima       art  attributes      auto  \\\n",
       "0      0.057735  0.057735  0.057735  0.057735    0.057735  0.057735   \n",
       "\n",
       "   automated       aws    behind  bengaluru  ...      sukh     tasks  \\\n",
       "0   0.057735  0.057735  0.057735   0.057735  ...  0.057735  0.057735   \n",
       "\n",
       "         th      time  treatment       uit     value    winter    worked  \\\n",
       "0  0.057735  0.057735   0.057735  0.057735  0.057735  0.057735  0.057735   \n",
       "\n",
       "      year  \n",
       "0  0.34641  \n",
       "\n",
       "[1 rows x 87 columns]"
      ]
     },
     "execution_count": 148,
     "metadata": {},
     "output_type": "execute_result"
    }
   ],
   "source": [
    "df_tfidf_vect=pd.DataFrame(data=article_vect.toarray(),columns=count_tokens)\n",
    "df_tfidf_vect"
   ]
  },
  {
   "cell_type": "code",
   "execution_count": 121,
   "id": "fad9c3f4",
   "metadata": {},
   "outputs": [
    {
     "data": {
      "text/plain": [
       "<AxesSubplot:>"
      ]
     },
     "execution_count": 121,
     "metadata": {},
     "output_type": "execute_result"
    },
    {
     "data": {
      "image/png": "[encoded data removed]",
      "text/plain": [
       "<Figure size 432x288 with 1 Axes>"
      ]
     },
     "metadata": {
      "needs_background": "light"
     },
     "output_type": "display_data"
    }
   ],
   "source": [
    "df_tfidf_vect.plot(kind='bar')"
   ]
  },
  {
   "cell_type": "code",
   "execution_count": null,
   "id": "53f87bc6",
   "metadata": {},
   "outputs": [],
   "source": []
  }
 ],
 "metadata": {
  "kernelspec": {
   "display_name": "Python 3",
   "language": "python",
   "name": "python3"
  },
  "language_info": {
   "codemirror_mode": {
    "name": "ipython",
    "version": 3
   },
   "file_extension": ".py",
   "mimetype": "text/x-python",
   "name": "python",
   "nbconvert_exporter": "python",
   "pygments_lexer": "ipython3",
   "version": "3.8.8"
  }
 },
 "nbformat": 4,
 "nbformat_minor": 5
}
